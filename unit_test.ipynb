{
  "nbformat": 4,
  "nbformat_minor": 0,
  "metadata": {
    "colab": {
      "provenance": []
    },
    "kernelspec": {
      "name": "python3",
      "display_name": "Python 3"
    },
    "language_info": {
      "name": "python"
    }
  },
  "cells": [
    {
      "cell_type": "code",
      "source": [
        "import pandas as pd\n",
        "import random\n",
        "\n",
        "# Define sample data\n",
        "product_names = [\"Laptop\", \"Headphones\", \"Smartphone\", \"Camera\", \"Monitor\", \"Mouse\", \"Keyboard\"]\n",
        "categories = [\"Electronics\", \"Accessories\", \"Gadgets\", \"Cameras\"]\n",
        "\n",
        "# Function to generate random dataset\n",
        "def generate_dataset(num_samples):\n",
        "    data = {\n",
        "        \"Product_Name\": [random.choice(product_names) for _ in range(num_samples)],\n",
        "        \"Category\": [random.choice(categories) for _ in range(num_samples)],\n",
        "        \"Price\": [round(random.uniform(100, 2000), 2) for _ in range(num_samples)],\n",
        "        \"Discount\": [round(random.uniform(5, 50), 2) for _ in range(num_samples)],\n",
        "        \"Sales_Quantity\": [random.randint(1, 100) for _ in range(num_samples)],\n",
        "    }\n",
        "\n",
        "    # Calculate future price based on discount and sales quantity trends\n",
        "    df = pd.DataFrame(data)\n",
        "    df[\"Future_Price\"] = df[\"Price\"] * (1 - df[\"Discount\"] / 100)  # Future price after discount\n",
        "\n",
        "    return df\n",
        "\n",
        "# Generate dataset with 1000 rows\n",
        "ecommerce_data = generate_dataset(1000)\n",
        "\n",
        "# Save the dataset to a CSV file\n",
        "ecommerce_data.to_csv('ecommerce_data.csv', index=False)\n",
        "\n",
        "print(\"Dataset created and saved as 'ecommerce_data.csv'\")\n"
      ],
      "metadata": {
        "colab": {
          "base_uri": "https://localhost:8080/"
        },
        "id": "uQgxFrO57tbv",
        "outputId": "81084ec5-4a40-4159-fe84-516a694f7197"
      },
      "execution_count": 4,
      "outputs": [
        {
          "output_type": "stream",
          "name": "stdout",
          "text": [
            "Dataset created and saved as 'ecommerce_data.csv'\n"
          ]
        }
      ]
    },
    {
      "cell_type": "code",
      "execution_count": 5,
      "metadata": {
        "colab": {
          "base_uri": "https://localhost:8080/"
        },
        "id": "5n9CVRkz7XtS",
        "outputId": "d712465c-bd66-4e69-eb00-a494ade8075c"
      },
      "outputs": [
        {
          "output_type": "stream",
          "name": "stdout",
          "text": [
            "Ridge R-squared score: 0.970090837408736\n",
            "Lasso R-squared score: 0.9700632671286147\n",
            "ElasticNet R-squared score: 0.9700523738294208\n"
          ]
        }
      ],
      "source": [
        "# e_commerce_price_prediction.py\n",
        "\n",
        "import pandas as pd\n",
        "from sklearn.model_selection import train_test_split\n",
        "from sklearn.linear_model import Ridge, Lasso, ElasticNet\n",
        "from sklearn.metrics import r2_score\n",
        "from sklearn.ensemble import RandomForestRegressor\n",
        "from sklearn.model_selection import GridSearchCV\n",
        "\n",
        "# Step 1: Load Data (dummy dataset for illustration)\n",
        "data = pd.read_csv('/content/ecommerce_data.csv')\n",
        "\n",
        "# Step 2: Data Preprocessing (Feature selection and encoding)\n",
        "X = data[['Category', 'Price', 'Discount', 'Sales_Quantity']]\n",
        "y = data['Future_Price']\n",
        "\n",
        "# Optional: Convert categorical data to numeric using one-hot encoding\n",
        "X = pd.get_dummies(X, drop_first=True)\n",
        "\n",
        "# Step 3: Split into training and testing sets\n",
        "X_train, X_test, y_train, y_test = train_test_split(X, y, test_size=0.2, random_state=42)\n",
        "\n",
        "# Step 4: Define models\n",
        "ridge = Ridge()\n",
        "lasso = Lasso()\n",
        "elastic = ElasticNet()\n",
        "\n",
        "# Step 5: Use AutoML (GridSearch) to find the best model\n",
        "param_grid = {\n",
        "    'alpha': [0.01, 0.1, 1, 10, 100]\n",
        "}\n",
        "\n",
        "ridge_grid = GridSearchCV(ridge, param_grid, cv=5, scoring='r2')\n",
        "lasso_grid = GridSearchCV(lasso, param_grid, cv=5, scoring='r2')\n",
        "elastic_grid = GridSearchCV(elastic, param_grid, cv=5, scoring='r2')\n",
        "\n",
        "# Step 6: Train each model and find the best\n",
        "ridge_grid.fit(X_train, y_train)\n",
        "lasso_grid.fit(X_train, y_train)\n",
        "elastic_grid.fit(X_train, y_train)\n",
        "\n",
        "# Step 7: Evaluate Models\n",
        "models = {\n",
        "    \"Ridge\": ridge_grid,\n",
        "    \"Lasso\": lasso_grid,\n",
        "    \"ElasticNet\": elastic_grid\n",
        "}\n",
        "\n",
        "for name, model in models.items():\n",
        "    y_pred = model.predict(X_test)\n",
        "    print(f\"{name} R-squared score: {r2_score(y_test, y_pred)}\")\n"
      ]
    },
    {
      "cell_type": "code",
      "source": [
        "# test_e_commerce_price_prediction.py\n",
        "\n",
        "import unittest\n",
        "import pandas as pd\n",
        "# The file name was likely incorrect. Changed to ipython-input-5-fa38f58547e0\n",
        "from ipython_input_5_fa38f58547e0 import ridge_grid, lasso_grid, elastic_grid\n",
        "\n",
        "class TestPricePrediction(unittest.TestCase):\n",
        "\n",
        "    def setUp(self):\n",
        "        self.data = pd.read_csv('ecommerce_data.csv')\n",
        "        self.X = pd.get_dummies(self.data[['Category', 'Price', 'Discount', 'Sales_Quantity']], drop_first=True)\n",
        "        self.y = self.data['Future_Price']\n",
        "\n",
        "    def test_missing_values(self):\n",
        "        # Test if there are any missing values\n",
        "        self.assertFalse(self.X.isnull().values.any(), \"Dataset contains missing values\")\n",
        "\n",
        "    def test_model_accuracy(self):\n",
        "        # Test if models perform within an acceptable range\n",
        "        ridge_score = ridge_grid.best_score_\n",
        "        lasso_score = lasso_grid.best_score_\n",
        "        elastic_score = elastic_grid.best_score_\n",
        "        self.assertGreater(ridge_score, 0.7, \"Ridge model accuracy is too low\")\n",
        "        self.assertGreater(lasso_score, 0.7, \"Lasso model accuracy is too low\")\n",
        "        self.assertGreater(elastic_score, 0.7, \"ElasticNet model accuracy is too low\")\n",
        "\n",
        "    def test_predictions(self):\n",
        "        # Test if predictions are in the expected range\n",
        "        ridge_pred = ridge_grid.predict(self.X)\n",
        "        self.assertGreaterEqual(ridge_pred.min(), 0, \"Predicted prices should not be negative\")\n",
        "\n",
        "if __name__ == '__main__':\n",
        "    unittest.main()\n"
      ],
      "metadata": {
        "colab": {
          "base_uri": "https://localhost:8080/",
          "height": 383
        },
        "collapsed": true,
        "id": "9j4MJabd73T8",
        "outputId": "1f89115d-6325-4f95-8dd9-5092d99161f8"
      },
      "execution_count": 7,
      "outputs": [
        {
          "output_type": "error",
          "ename": "ModuleNotFoundError",
          "evalue": "No module named 'ipython_input_5_fa38f58547e0'",
          "traceback": [
            "\u001b[0;31m---------------------------------------------------------------------------\u001b[0m",
            "\u001b[0;31mModuleNotFoundError\u001b[0m                       Traceback (most recent call last)",
            "\u001b[0;32m<ipython-input-7-d487f3d52479>\u001b[0m in \u001b[0;36m<cell line: 6>\u001b[0;34m()\u001b[0m\n\u001b[1;32m      4\u001b[0m \u001b[0;32mimport\u001b[0m \u001b[0mpandas\u001b[0m \u001b[0;32mas\u001b[0m \u001b[0mpd\u001b[0m\u001b[0;34m\u001b[0m\u001b[0;34m\u001b[0m\u001b[0m\n\u001b[1;32m      5\u001b[0m \u001b[0;31m# The file name was likely incorrect. Changed to ipython-input-5-fa38f58547e0\u001b[0m\u001b[0;34m\u001b[0m\u001b[0;34m\u001b[0m\u001b[0m\n\u001b[0;32m----> 6\u001b[0;31m \u001b[0;32mfrom\u001b[0m \u001b[0mipython_input_5_fa38f58547e0\u001b[0m \u001b[0;32mimport\u001b[0m \u001b[0mridge_grid\u001b[0m\u001b[0;34m,\u001b[0m \u001b[0mlasso_grid\u001b[0m\u001b[0;34m,\u001b[0m \u001b[0melastic_grid\u001b[0m\u001b[0;34m\u001b[0m\u001b[0;34m\u001b[0m\u001b[0m\n\u001b[0m\u001b[1;32m      7\u001b[0m \u001b[0;34m\u001b[0m\u001b[0m\n\u001b[1;32m      8\u001b[0m \u001b[0;32mclass\u001b[0m \u001b[0mTestPricePrediction\u001b[0m\u001b[0;34m(\u001b[0m\u001b[0munittest\u001b[0m\u001b[0;34m.\u001b[0m\u001b[0mTestCase\u001b[0m\u001b[0;34m)\u001b[0m\u001b[0;34m:\u001b[0m\u001b[0;34m\u001b[0m\u001b[0;34m\u001b[0m\u001b[0m\n",
            "\u001b[0;31mModuleNotFoundError\u001b[0m: No module named 'ipython_input_5_fa38f58547e0'",
            "",
            "\u001b[0;31m---------------------------------------------------------------------------\u001b[0;32m\nNOTE: If your import is failing due to a missing package, you can\nmanually install dependencies using either !pip or !apt.\n\nTo view examples of installing some common dependencies, click the\n\"Open Examples\" button below.\n\u001b[0;31m---------------------------------------------------------------------------\u001b[0m\n"
          ],
          "errorDetails": {
            "actions": [
              {
                "action": "open_url",
                "actionText": "Open Examples",
                "url": "/notebooks/snippets/importing_libraries.ipynb"
              }
            ]
          }
        }
      ]
    },
    {
      "cell_type": "code",
      "source": [],
      "metadata": {
        "id": "BZA1WwI0RLyH"
      },
      "execution_count": null,
      "outputs": []
    }
  ]
}